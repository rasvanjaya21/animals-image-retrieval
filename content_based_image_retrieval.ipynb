{
  "nbformat": 4,
  "nbformat_minor": 0,
  "metadata": {
    "colab": {
      "provenance": [],
      "collapsed_sections": []
    },
    "kernelspec": {
      "name": "python3",
      "display_name": "Python 3"
    },
    "language_info": {
      "name": "python"
    }
  },
  "cells": [
    {
      "cell_type": "markdown",
      "source": [
        "#**Animals Content-Based Image Retrieval**\n",
        "___\n",
        "\n",
        "\n",
        "```Tugas Pertama | Temu Kembali Citra | Ir. Agus Eko Minarno, S.Kom., M.Kom. IPM.```"
      ],
      "metadata": {
        "id": "6XSBzazMPpOO"
      }
    },
    {
      "cell_type": "markdown",
      "source": [
        "###### **Tujuan :**\n",
        "```Implementasi Image Retrieval Menggunakan Python```"
      ],
      "metadata": {
        "id": "Qf6CHb7zZQir"
      }
    },
    {
      "cell_type": "markdown",
      "source": [
        "###### **Kelompok :**\n",
        "```Yusril Aminuddin (201910370311366) | Irfan Azhari (201910370311388)```"
      ],
      "metadata": {
        "id": "tIw_vFGkQQb9"
      }
    },
    {
      "cell_type": "markdown",
      "source": [
        "##### **1. Prepare Dataset**\n",
        "```Mempersiapkan dataset untuk dilatih```"
      ],
      "metadata": {
        "id": "w8fwmP_3YXvY"
      }
    },
    {
      "cell_type": "code",
      "source": [],
      "metadata": {
        "id": "k_2hwEyobSBM"
      },
      "execution_count": null,
      "outputs": []
    },
    {
      "cell_type": "markdown",
      "source": [
        "###### **2. Data Prepocessing**\n",
        "```Melatih dan menganalisa dataset, membuat model dari dataset yang sudah dilatih```"
      ],
      "metadata": {
        "id": "HeCtmEpqYYDY"
      }
    },
    {
      "cell_type": "code",
      "source": [],
      "metadata": {
        "id": "K6qZWZ8BbR5K"
      },
      "execution_count": null,
      "outputs": []
    },
    {
      "cell_type": "markdown",
      "source": [
        "###### **3. Model Evaluation**\n",
        "```Evaluasi dari model yang telah dibuat, testing model```"
      ],
      "metadata": {
        "id": "Q6aomYb1aFlg"
      }
    },
    {
      "cell_type": "code",
      "source": [],
      "metadata": {
        "id": "o6Du0nprbRR0"
      },
      "execution_count": null,
      "outputs": []
    },
    {
      "cell_type": "markdown",
      "source": [
        "###### **4. Image Retrieval Testing**\n",
        "```Live test dari citra yang diupload dan menampilkan hasil nya```"
      ],
      "metadata": {
        "id": "aOj_S8h7a0Yo"
      }
    },
    {
      "cell_type": "code",
      "source": [],
      "metadata": {
        "id": "VUyd3mKBY318"
      },
      "execution_count": null,
      "outputs": []
    }
  ]
}